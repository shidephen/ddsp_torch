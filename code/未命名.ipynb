{
 "cells": [
  {
   "cell_type": "code",
   "execution_count": 1,
   "metadata": {},
   "outputs": [
    {
     "name": "stdout",
     "output_type": "stream",
     "text": [
      "Populating the interactive namespace from numpy and matplotlib\n"
     ]
    }
   ],
   "source": [
    "%pylab inline"
   ]
  },
  {
   "cell_type": "code",
   "execution_count": 9,
   "metadata": {},
   "outputs": [],
   "source": [
    "import os\n",
    "import time\n",
    "import argparse\n",
    "import numpy as np\n",
    "import torch\n",
    "import torch.nn as nn\n",
    "import torch.optim as optim\n",
    "from data import load_dataset\n",
    "from model import DDSSynth, construct_architecture\n",
    "from ddsp.archis import construct_synth\n",
    "from ddsp.loss import MSSTFTLoss\n",
    "from utils.plot import plot_batch_detailed\n",
    "from dotmap import DotMap"
   ]
  },
  {
   "cell_type": "code",
   "execution_count": 17,
   "metadata": {},
   "outputs": [],
   "source": [
    "args = {'path': '/home/huanghao.blur/datasets',\n",
    "        'dataset': 'medley',\n",
    "        'nbworkers': 1,\n",
    "        \n",
    "        'data': 'mel',\n",
    "        \n",
    "        'sr': 44100,\n",
    "        'f0_estimate': 'dio',\n",
    "        'fft_scales': [64, 6],\n",
    "        'smooth_kernel': 8,\n",
    "        \n",
    "        'n_partial': 50,\n",
    "        'filter_size': 64,\n",
    "        'block_size': 160,\n",
    "        'kernel_size': 15,\n",
    "        'sequence_size': 200,\n",
    "        'synth_type': 'basic',\n",
    "        \n",
    "        'model': 'vae',\n",
    "        'layers': 'gru',\n",
    "        'loss': 'msstft',\n",
    "        'strides': [2,4,4,5],\n",
    "        'n_hidden': 512,\n",
    "        'n_layers': 4,\n",
    "        'channels': 128,\n",
    "        'kernel': 15,\n",
    "        'encoder_dims': 16,\n",
    "        'latent_dims': 16,\n",
    "        'warm_latent': 200,\n",
    "        'beta_factor': 1,\n",
    "        \n",
    "        'flow': 'iaf',\n",
    "        'flow_length': 8,\n",
    "        \n",
    "        'early_stop': 60,\n",
    "        'train_type': 'random',\n",
    "        'plot_interval': 100,\n",
    "        'batch_size': 64,\n",
    "        'epochs': 100,\n",
    "        'lr': 2e-4\n",
    "       }\n",
    "\n",
    "args = DotMap(args)"
   ]
  },
  {
   "cell_type": "code",
   "execution_count": 12,
   "metadata": {},
   "outputs": [],
   "source": [
    "train_loader, valid_loader, test_loader, args = load_dataset(args)"
   ]
  },
  {
   "cell_type": "code",
   "execution_count": 20,
   "metadata": {},
   "outputs": [],
   "source": [
    "encoder, decoder = construct_architecture(args)\n",
    "# Construct synthesizer\n",
    "synth = construct_synth(args)\n",
    "# Finally construct the full model (first only AE)\n",
    "model = DDSSynth(encoder, decoder, synth, args)\n",
    "# Optimizer model\n",
    "optimizer = optim.Adam(model.parameters(), lr=args.lr)\n",
    "# Learning rate scheduler\n",
    "scheduler = optim.lr_scheduler.ReduceLROnPlateau(optimizer, mode='min', factor=0.5, patience=20, verbose=True, threshold=1e-7)\n",
    "\n",
    "loss = MSSTFTLoss(args.scales)"
   ]
  },
  {
   "cell_type": "code",
   "execution_count": 23,
   "metadata": {},
   "outputs": [],
   "source": [
    "x, f0, loud, y = next(iter(train_loader))"
   ]
  },
  {
   "cell_type": "code",
   "execution_count": 34,
   "metadata": {},
   "outputs": [
    {
     "data": {
      "text/plain": [
       "torch.Size([64, 1, 32000])"
      ]
     },
     "execution_count": 34,
     "metadata": {},
     "output_type": "execute_result"
    }
   ],
   "source": [
    "x.shape"
   ]
  }
 ],
 "metadata": {
  "kernelspec": {
   "display_name": "Python 3.7.6 64-bit ('ddsp': conda)",
   "language": "python",
   "name": "python37664bitddspconda2abc9df7eed04e3a9d2630a138b0b2e2"
  },
  "language_info": {
   "codemirror_mode": {
    "name": "ipython",
    "version": 3
   },
   "file_extension": ".py",
   "mimetype": "text/x-python",
   "name": "python",
   "nbconvert_exporter": "python",
   "pygments_lexer": "ipython3",
   "version": "3.7.6"
  }
 },
 "nbformat": 4,
 "nbformat_minor": 2
}
